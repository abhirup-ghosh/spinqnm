{
 "cells": [
  {
   "cell_type": "code",
   "execution_count": 1,
   "metadata": {
    "Collapsed": "false"
   },
   "outputs": [],
   "source": [
    "import numpy as np\n",
    "import json\n",
    "from jinja2 import Template\n",
    "\n",
    "import lal\n",
    "import utils"
   ]
  },
  {
   "cell_type": "code",
   "execution_count": 2,
   "metadata": {
    "Collapsed": "false"
   },
   "outputs": [],
   "source": [
    "event_list_pyring = [\"S150914\", \"S170104\", \"S170814\", \"S170823\", \"S190408an\", \"S190512at\", \"S190513bm\", \"S190519bj\", \"S190521g\", \"S190521r\", \"S190602aq\", \"S190706ai\", \"S190708ap\", \"S190727h\", \"S190828j\", \"S190910s\", \"S190915ak\"]\n",
    "event_list_pseob = [\"S190421ar\", \"S190503bf\", \"S190519bj\", \"S190521g\", \"S190521r\", \"S190602aq\", \"S190706ai\", \"S190727h\", \"S190910s\"]\n",
    "event_list = sorted(set(event_list_pyring + event_list_pseob))\n",
    "\n",
    "data_file_path_template_pyring = \"{event}/rin_{event}_pyring_{param}.dat.gz\"\n",
    "data_file_path_template_pseob = \"{event}/rin_{event}_pseobnrv4hm_{param}.dat.gz\"\n",
    "data_file_path_template_IMR = \"{event}/rin_{event}_IMR_{param}.dat.gz\"\n",
    "\n",
    "# Parameters to be tabulated\n",
    "params_pyring = [\"f_t_0\", \"tau_t_0\"]\n",
    "params_pseob = [\"freq_220_modGR\", \"tau_220_modGR\"]\n",
    "params_IMR = [\"freq_220\", \"tau_220\"]\n",
    "params = params_pyring + params_pseob + params_IMR\n",
    "\n",
    "sample_dict = {}\n",
    "# Load the posterior sample files produced by pull_data_pyring.py\n",
    "for param in params_pyring:\n",
    "    sample_dict[param] = {}\n",
    "    for event in event_list_pyring:\n",
    "        sample_dict[param][event] = np.loadtxt(data_file_path_template_pyring.format(event=event, param=param))\n",
    "\n",
    "# Load the posterior sample files produced by pull_data_pseob.py\n",
    "for param in params_pseob:\n",
    "    sample_dict[param] = {}\n",
    "    for event in event_list_pseob:\n",
    "        sample_dict[param][event] = np.loadtxt(data_file_path_template_pseob.format(event=event, param=param))\n",
    "        \n",
    "# Load the posterior sample files produced by pull_data_IMR.py\n",
    "for param in params_IMR:\n",
    "    sample_dict[param] = {}\n",
    "    for event in event_list:\n",
    "        # FIXME: Also get the posterior samples for O1O2 events\n",
    "        try:\n",
    "            sample_dict[param][event] = np.loadtxt(data_file_path_template_IMR.format(event=event, param=param))\n",
    "        except:\n",
    "            pass"
   ]
  },
  {
   "cell_type": "code",
   "execution_count": 3,
   "metadata": {
    "Collapsed": "false"
   },
   "outputs": [],
   "source": [
    "# Prepare the dictionary that should be fed to jinja2\n",
    "jinja2_data_dict = []\n",
    "for idx, event in enumerate(event_list):\n",
    "    e = utils.Event(event)\n",
    "    jinja2_data_dict.append({\"catalog_id\": e.name})"
   ]
  },
  {
   "cell_type": "code",
   "execution_count": 4,
   "metadata": {
    "Collapsed": "false"
   },
   "outputs": [],
   "source": [
    "# Compute summary statistics: median, 90% CI limits\n",
    "for idx, event in enumerate(event_list):\n",
    "    for param in params:\n",
    "        try:\n",
    "            jinja2_data_dict[idx][param+\"_median\"] = np.median(sample_dict[param][event])\n",
    "            # 5th-percentile relative to the median\n",
    "            jinja2_data_dict[idx][param+\"_lower_limit\"] = np.median(sample_dict[param][event]) - np.percentile(sample_dict[param][event], 5)\n",
    "            # 95th-percentile relative to the median\n",
    "            jinja2_data_dict[idx][param+\"_upper_limit\"] = np.percentile(sample_dict[param][event], 95) - np.median(sample_dict[param][event])\n",
    "        except:\n",
    "            # That parameter does not exist in the dict, returning np.nan\n",
    "            jinja2_data_dict[idx][param+\"_median\"] = None\n",
    "            # 5th-percentile relative to the median\n",
    "            jinja2_data_dict[idx][param+\"_lower_limit\"] = None\n",
    "            # 95th-percentile relative to the median\n",
    "            jinja2_data_dict[idx][param+\"_upper_limit\"] = None"
   ]
  },
  {
   "cell_type": "code",
   "execution_count": 5,
   "metadata": {
    "Collapsed": "false"
   },
   "outputs": [],
   "source": [
    "# Format the output, and show a dash for nan\n",
    "for idx, event in enumerate(event_list):\n",
    "    # IMR\n",
    "    try:\n",
    "        jinja2_data_dict[idx][\"freq_IMR\"] = \"${0:.0f}^{{+{1:.0f}}}_{{-{2:.0f}}}$\".format(jinja2_data_dict[idx][\"freq_220_median\"], jinja2_data_dict[idx][\"freq_220_upper_limit\"], jinja2_data_dict[idx][\"freq_220_lower_limit\"])\n",
    "        jinja2_data_dict[idx][\"tau_IMR\"] = \"${0:.1f}^{{+{1:.1f}}}_{{-{2:.1f}}}$\".format(1e3*jinja2_data_dict[idx][\"tau_220_median\"], 1e3*jinja2_data_dict[idx][\"tau_220_upper_limit\"], 1e3*jinja2_data_dict[idx][\"tau_220_lower_limit\"])\n",
    "    except:\n",
    "        jinja2_data_dict[idx][\"freq_IMR\"] = \"$-$\"\n",
    "        jinja2_data_dict[idx][\"tau_IMR\"] = \"$-$\"\n",
    "    # pyRing\n",
    "    try:\n",
    "        jinja2_data_dict[idx][\"freq_pyRing\"] = \"${0:.0f}^{{+{1:.0f}}}_{{-{2:.0f}}}$\".format(jinja2_data_dict[idx][\"f_t_0_median\"], jinja2_data_dict[idx][\"f_t_0_upper_limit\"], jinja2_data_dict[idx][\"f_t_0_lower_limit\"])\n",
    "        jinja2_data_dict[idx][\"tau_pyRing\"] = \"${0:.1f}^{{+{1:.1f}}}_{{-{2:.1f}}}$\".format(1e3*jinja2_data_dict[idx][\"tau_t_0_median\"], 1e3*jinja2_data_dict[idx][\"tau_t_0_upper_limit\"], 1e3*jinja2_data_dict[idx][\"tau_t_0_lower_limit\"])\n",
    "    except:\n",
    "        jinja2_data_dict[idx][\"freq_pyRing\"] = \"$-$\"\n",
    "        jinja2_data_dict[idx][\"tau_pyRing\"] = \"$-$\"\n",
    "    # pSEOB\n",
    "    try:\n",
    "        jinja2_data_dict[idx][\"freq_pSEOB\"] = \"${0:.0f}^{{+{1:.0f}}}_{{-{2:.0f}}}$\".format(jinja2_data_dict[idx][\"freq_220_modGR_median\"], jinja2_data_dict[idx][\"freq_220_modGR_upper_limit\"], jinja2_data_dict[idx][\"freq_220_modGR_lower_limit\"])\n",
    "        jinja2_data_dict[idx][\"tau_pSEOB\"] = \"${0:.1f}^{{+{1:.1f}}}_{{-{2:.1f}}}$\".format(1e3*jinja2_data_dict[idx][\"tau_220_modGR_median\"], 1e3*jinja2_data_dict[idx][\"tau_220_modGR_upper_limit\"], 1e3*jinja2_data_dict[idx][\"tau_220_modGR_lower_limit\"])\n",
    "    except:\n",
    "        jinja2_data_dict[idx][\"freq_pSEOB\"] = \"$-$\"\n",
    "        jinja2_data_dict[idx][\"tau_pSEOB\"] = \"$-$\""
   ]
  },
  {
   "cell_type": "code",
   "execution_count": 6,
   "metadata": {
    "Collapsed": "false"
   },
   "outputs": [],
   "source": [
    "# Jinja2 template for the table in LaTeX\n",
    "LaTex_table_jinja_template = r\"\"\"\n",
    "\\begin{tabular}{llllllll}\n",
    "\\toprule\n",
    "Event & \\multicolumn{3}{c}{Redshifted} & \\hphantom{X} & \\multicolumn{3}{c}{Redshifted} \\\\\n",
    "& \\multicolumn{3}{c}{frequency [Hz]} & \\hphantom{X} & \\multicolumn{3}{c}{damping time [ms]} \\\\[0.075cm]\n",
    "\\cline{2-4}\n",
    "\\cline{6-8}\n",
    "& IMR & DS & pSEOB & \\hphantom{X} & IMR & DS & pSEOB \\\\\n",
    "\\midrule\n",
    "{% for event in  jinja2_data_dict %}\n",
    "{{ event.catalog_id }} &\n",
    "{{ event.freq_IMR }} &\n",
    "{{ event.freq_pyRing }} &\n",
    "{{ event.freq_pSEOB }} &\n",
    "\\hphantom{X} &\n",
    "{{ event.tau_IMR }} &\n",
    "{{ event.tau_pyRing }} &\n",
    "{{ event.tau_pSEOB }}\n",
    "\\\\[0.075cm]\n",
    "{% endfor %}\n",
    "\\bottomrule\n",
    "\\end{tabular}\n",
    "\"\"\""
   ]
  },
  {
   "cell_type": "code",
   "execution_count": 7,
   "metadata": {
    "Collapsed": "false"
   },
   "outputs": [],
   "source": [
    "Template(LaTex_table_jinja_template).stream(jinja2_data_dict=jinja2_data_dict).dump(\"tab_rin_freq_tau_results.tex\")"
   ]
  },
  {
   "cell_type": "code",
   "execution_count": null,
   "metadata": {
    "Collapsed": "false"
   },
   "outputs": [],
   "source": []
  }
 ],
 "metadata": {
  "kernelspec": {
   "display_name": "Python 3",
   "language": "python",
   "name": "python3"
  },
  "language_info": {
   "codemirror_mode": {
    "name": "ipython",
    "version": 3
   },
   "file_extension": ".py",
   "mimetype": "text/x-python",
   "name": "python",
   "nbconvert_exporter": "python",
   "pygments_lexer": "ipython3",
   "version": "3.6.9"
  }
 },
 "nbformat": 4,
 "nbformat_minor": 4
}
