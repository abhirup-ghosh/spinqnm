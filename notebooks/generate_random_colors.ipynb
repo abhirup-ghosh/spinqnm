{
 "cells": [
  {
   "cell_type": "code",
   "execution_count": 1,
   "metadata": {},
   "outputs": [],
   "source": [
    "import matplotlib.pyplot as plt\n",
    "import numpy as np\n"
   ]
  },
  {
   "cell_type": "code",
   "execution_count": 14,
   "metadata": {},
   "outputs": [],
   "source": [
    "def color_generator(N, alpha=1.):\n",
    "    \n",
    "    color_list = []\n",
    "    \n",
    "    for idx in range(int(N)):\n",
    "        r = np.random.random()\n",
    "        b = np.random.random()\n",
    "        g = np.random.random()\n",
    "        color = (r, g, b, alpha)\n",
    "        color_list.append(color)\n",
    "        \n",
    "    return color_list"
   ]
  },
  {
   "cell_type": "code",
   "execution_count": 15,
   "metadata": {},
   "outputs": [
    {
     "data": {
      "text/plain": [
       "[(0.8973891654878136, 0.2337359221425701, 0.18709366922789494, 1.0),\n",
       " (0.35505429729280213, 0.8032647117365213, 0.43714608718624937, 1.0),\n",
       " (0.2994361040718916, 0.5310916089169816, 0.08738216799416465, 1.0),\n",
       " (0.6656866799445912, 0.9639300158119892, 0.7743978684435522, 1.0),\n",
       " (0.8725679237348533, 0.9689652608682114, 0.44534621898396454, 1.0),\n",
       " (0.5112604278066358, 0.8454186205264054, 0.17778479168881633, 1.0),\n",
       " (0.5405943641797936, 0.1774609954783931, 0.8680145979238112, 1.0),\n",
       " (0.12792452891309303, 0.719096465347565, 0.16167418682166423, 1.0),\n",
       " (0.9192084151897276, 0.8194033701272863, 0.9706552646358975, 1.0),\n",
       " (0.5659640844796986, 0.4034922207534296, 0.5530106003668492, 1.0)]"
      ]
     },
     "execution_count": 15,
     "metadata": {},
     "output_type": "execute_result"
    }
   ],
   "source": [
    "color_generator(10)"
   ]
  },
  {
   "cell_type": "code",
   "execution_count": null,
   "metadata": {},
   "outputs": [],
   "source": []
  }
 ],
 "metadata": {
  "kernelspec": {
   "display_name": "Python 3",
   "language": "python",
   "name": "python3"
  },
  "language_info": {
   "codemirror_mode": {
    "name": "ipython",
    "version": 3
   },
   "file_extension": ".py",
   "mimetype": "text/x-python",
   "name": "python",
   "nbconvert_exporter": "python",
   "pygments_lexer": "ipython3",
   "version": "3.6.9"
  }
 },
 "nbformat": 4,
 "nbformat_minor": 4
}
