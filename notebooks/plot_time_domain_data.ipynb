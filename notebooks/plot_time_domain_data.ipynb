{
 "cells": [
  {
   "cell_type": "code",
   "execution_count": 1,
   "metadata": {},
   "outputs": [],
   "source": [
    "#!/usr/bin/env python\n",
    "\"\"\"\n",
    "\"\"\"\n",
    "from __future__ import division, print_function\n",
    "import numpy as np\n",
    "import bilby\n",
    "import matplotlib.pyplot as plt"
   ]
  },
  {
   "cell_type": "code",
   "execution_count": 4,
   "metadata": {},
   "outputs": [
    {
     "name": "stdout",
     "output_type": "stream",
     "text": [
      "0.0 0.0\n"
     ]
    },
    {
     "data": {
      "text/plain": [
       "\"\\nH1 = bilby.gw.detector.get_interferometer_with_fake_noise_and_injection(\\n    'H1', injection_polarizations=hf_signal,\\n    injection_parameters=injection_parameters, duration=duration,\\n    sampling_frequency=sampling_frequency, outdir=outdir)\\n\\nt0 = injection_parameters['geocent_time']\\nH1.plot_time_domain_data(outdir=outdir, label=label, notches=[50],\\n                         bandpass_frequencies=(50, 200), start_end=(-0.5, 0.5),\\n                         t0=t0)\\n\""
      ]
     },
     "execution_count": 4,
     "metadata": {},
     "output_type": "execute_result"
    }
   ],
   "source": [
    "np.random.seed(1)\n",
    "\n",
    "duration = 4\n",
    "sampling_frequency = 2048.\n",
    "\n",
    "outdir = 'outdir'\n",
    "label = 'example'\n",
    "\n",
    "injection_parameters = dict(\n",
    "    mass_1=100., mass_2=100., a_1=0.4, a_2=0.3, tilt_1=0., tilt_2=0.,\n",
    "    phi_12=0., phi_jl=0., luminosity_distance=1000., theta_jn=0.4, psi=2.659,\n",
    "    phase=1.3, geocent_time=1126259642.413, ra=1.375, dec=-1.2108, domega220=1., dtau220=1.)\n",
    "\n",
    "waveform_arguments = dict(waveform_approximant='SEOBNRv4HM',\n",
    "                          reference_frequency=50.)\n",
    "\n",
    "waveform_generator = bilby.gw.WaveformGenerator(\n",
    "    duration=duration, sampling_frequency=sampling_frequency,\n",
    "    frequency_domain_source_model=bilby.gw.source.lal_binary_black_hole,\n",
    "    parameters=injection_parameters, waveform_arguments=waveform_arguments)\n",
    "hf_signal = waveform_generator.frequency_domain_strain(injection_parameters)\n",
    "\n",
    "'''\n",
    "H1 = bilby.gw.detector.get_interferometer_with_fake_noise_and_injection(\n",
    "    'H1', injection_polarizations=hf_signal,\n",
    "    injection_parameters=injection_parameters, duration=duration,\n",
    "    sampling_frequency=sampling_frequency, outdir=outdir)\n",
    "\n",
    "t0 = injection_parameters['geocent_time']\n",
    "H1.plot_time_domain_data(outdir=outdir, label=label, notches=[50],\n",
    "                         bandpass_frequencies=(50, 200), start_end=(-0.5, 0.5),\n",
    "                         t0=t0)\n",
    "'''"
   ]
  },
  {
   "cell_type": "code",
   "execution_count": 7,
   "metadata": {},
   "outputs": [],
   "source": [
    "import bilby\n",
    "import lal"
   ]
  },
  {
   "cell_type": "code",
   "execution_count": 15,
   "metadata": {},
   "outputs": [
    {
     "ename": "NameError",
     "evalue": "name 'frequency_array' is not defined",
     "output_type": "error",
     "traceback": [
      "\u001b[0;31m---------------------------------------------------------------------------\u001b[0m",
      "\u001b[0;31mNameError\u001b[0m                                 Traceback (most recent call last)",
      "\u001b[0;32m<ipython-input-15-590f67ccb97f>\u001b[0m in \u001b[0;36m<module>\u001b[0;34m\u001b[0m\n\u001b[1;32m      3\u001b[0m \u001b[0mbilby\u001b[0m\u001b[0;34m.\u001b[0m\u001b[0mgw\u001b[0m\u001b[0;34m.\u001b[0m\u001b[0mutils\u001b[0m\u001b[0;34m.\u001b[0m\u001b[0mlalsim_SimInspiralWaveformParamsInsertDOmega220\u001b[0m\u001b[0;34m(\u001b[0m\u001b[0mdictionary\u001b[0m\u001b[0;34m,\u001b[0m \u001b[0;36m1\u001b[0m\u001b[0;34m)\u001b[0m\u001b[0;34m\u001b[0m\u001b[0;34m\u001b[0m\u001b[0m\n\u001b[1;32m      4\u001b[0m \u001b[0;34m\u001b[0m\u001b[0m\n\u001b[0;32m----> 5\u001b[0;31m bilby.gw.source.lal_binary_black_hole(frequency_array, mass_1=100., mass_2=100., a_1=0.4, a_2=0.3, tilt_1=0., tilt_2=0.,\n\u001b[0m\u001b[1;32m      6\u001b[0m     \u001b[0mphi_12\u001b[0m\u001b[0;34m=\u001b[0m\u001b[0;36m0.\u001b[0m\u001b[0;34m,\u001b[0m \u001b[0mphi_jl\u001b[0m\u001b[0;34m=\u001b[0m\u001b[0;36m0.\u001b[0m\u001b[0;34m,\u001b[0m \u001b[0mluminosity_distance\u001b[0m\u001b[0;34m=\u001b[0m\u001b[0;36m1000.\u001b[0m\u001b[0;34m,\u001b[0m \u001b[0mtheta_jn\u001b[0m\u001b[0;34m=\u001b[0m\u001b[0;36m0.4\u001b[0m\u001b[0;34m,\u001b[0m \u001b[0mpsi\u001b[0m\u001b[0;34m=\u001b[0m\u001b[0;36m2.659\u001b[0m\u001b[0;34m,\u001b[0m\u001b[0;34m\u001b[0m\u001b[0;34m\u001b[0m\u001b[0m\n\u001b[1;32m      7\u001b[0m     phase=1.3, geocent_time=1126259642.413, ra=1.375, dec=-1.2108, domega220=1., dtau220=1.)\n",
      "\u001b[0;31mNameError\u001b[0m: name 'frequency_array' is not defined"
     ]
    }
   ],
   "source": [
    "dictionary = lal.CreateDict()\n",
    "\n",
    "bilby.gw.utils.lalsim_SimInspiralWaveformParamsInsertDOmega220(dictionary, 1)\n",
    "\n",
    "bilby.gw.source.lal_binary_black_hole(frequency_array, mass_1=100., mass_2=100., a_1=0.4, a_2=0.3, tilt_1=0., tilt_2=0.,\n",
    "    phi_12=0., phi_jl=0., luminosity_distance=1000., theta_jn=0.4, psi=2.659,\n",
    "    phase=1.3, geocent_time=1126259642.413, ra=1.375, dec=-1.2108, domega220=1., dtau220=1.)"
   ]
  },
  {
   "cell_type": "code",
   "execution_count": null,
   "metadata": {},
   "outputs": [],
   "source": []
  }
 ],
 "metadata": {
  "kernelspec": {
   "display_name": "Python 3",
   "language": "python",
   "name": "python3"
  },
  "language_info": {
   "codemirror_mode": {
    "name": "ipython",
    "version": 3
   },
   "file_extension": ".py",
   "mimetype": "text/x-python",
   "name": "python",
   "nbconvert_exporter": "python",
   "pygments_lexer": "ipython3",
   "version": "3.7.4"
  }
 },
 "nbformat": 4,
 "nbformat_minor": 4
}
