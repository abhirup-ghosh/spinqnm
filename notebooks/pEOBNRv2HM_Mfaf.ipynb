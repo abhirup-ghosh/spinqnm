{
 "cells": [
  {
   "cell_type": "code",
   "execution_count": 12,
   "metadata": {
    "collapsed": true
   },
   "outputs": [],
   "source": [
    "from __future__ import division\n",
    "import numpy as np\n",
    "import corner\n",
    "\n",
    "%matplotlib inline\n",
    "import matplotlib.pyplot as plt\n",
    "from matplotlib.patches import Ellipse\n",
    "import matplotlib as mpl\n",
    "\n",
    "from matplotlib import rcParams\n",
    "rcParams[\"font.size\"] = 16\n",
    "rcParams[\"font.family\"] = \"serif\"\n",
    "rcParams[\"axes.labelsize\"] = 25\n",
    "mpl.rcParams['text.usetex'] = True\n"
   ]
  },
  {
   "cell_type": "code",
   "execution_count": 4,
   "metadata": {
    "collapsed": true
   },
   "outputs": [],
   "source": [
    "Msun = 1.9885469549614615*10**30\n",
    "G = 6.67408*10**(-11)\n",
    "cc = 299792458\n",
    "\n",
    "def Mjfinal220(omega220,tau220):\n",
    "    \n",
    "    jf=1-pow((omega220*tau220/2.-0.7)/(1.4187),-1/0.4990)\n",
    "    Mf=((1.5251 - 1.1568*pow((1 - jf),0.1292))/omega220)*(cc*cc*cc/G/Msun)\n",
    "\n",
    "    return Mf,jf\n"
   ]
  },
  {
   "cell_type": "code",
   "execution_count": 11,
   "metadata": {
    "collapsed": false
   },
   "outputs": [],
   "source": [
    "params=['reomegaqnm_a','imomegaqnm_a','reomegaqnm_b','imomegaqnm_b','mf']\n",
    "data=np.genfromtxt('/Users/richardbrito/Desktop/Projects/IMR-QNM/data/GW150914/lalinferencemcmc/EOBNRv2HMpseudoFourPN/1126259462.43-190276/H1L1/posterior_samples.dat', names=True)\n",
    "\n",
    "XEOBv2 = data[params]\n",
    "\n",
    "paramsLVC=['mf','af']\n",
    "dataLVCsamples=np.genfromtxt('/Users/richardbrito/Desktop/Projects/IMR-QNM/data/GW150914/overall_post.dat', names=True)\n",
    "XLVC = dataLVCsamples[paramsLVC]"
   ]
  },
  {
   "cell_type": "code",
   "execution_count": 16,
   "metadata": {
    "collapsed": false
   },
   "outputs": [
    {
     "name": "stderr",
     "output_type": "stream",
     "text": [
      "/Users/richardbrito/anaconda/lib/python3.5/site-packages/ipykernel/__main__.py:7: RuntimeWarning: invalid value encountered in power\n"
     ]
    }
   ],
   "source": [
    "MJ=Mjfinal220(XEOBv2['reomegaqnm_a']/(XEOBv2['mf']*Msun*G/(cc**2)/cc),\n",
    "           XEOBv2['mf']*Msun*G/(cc**2)/cc/XEOBv2['imomegaqnm_a'])"
   ]
  },
  {
   "cell_type": "code",
   "execution_count": 17,
   "metadata": {
    "collapsed": false
   },
   "outputs": [
    {
     "name": "stderr",
     "output_type": "stream",
     "text": [
      "/Users/richardbrito/anaconda/lib/python3.5/site-packages/ipykernel/__main__.py:1: RuntimeWarning: invalid value encountered in greater\n",
      "  if __name__ == '__main__':\n",
      "/Users/richardbrito/anaconda/lib/python3.5/site-packages/ipykernel/__main__.py:1: RuntimeWarning: invalid value encountered in less\n",
      "  if __name__ == '__main__':\n",
      "/Users/richardbrito/anaconda/lib/python3.5/site-packages/ipykernel/__main__.py:2: RuntimeWarning: invalid value encountered in greater\n",
      "  from ipykernel import kernelapp as app\n",
      "/Users/richardbrito/anaconda/lib/python3.5/site-packages/ipykernel/__main__.py:2: RuntimeWarning: invalid value encountered in less\n",
      "  from ipykernel import kernelapp as app\n"
     ]
    }
   ],
   "source": [
    "qnmmodes = np.vstack([MJ[0][(MJ[1]>0) & (MJ[1]<1)],\n",
    "                      MJ[1][(MJ[1]>0) & (MJ[1]<1)]])\n",
    "\n",
    "IMR = np.vstack([XLVC['mf'],XLVC['af']])\n"
   ]
  },
  {
   "cell_type": "code",
   "execution_count": 14,
   "metadata": {
    "collapsed": false
   },
   "outputs": [
    {
     "name": "stderr",
     "output_type": "stream",
     "text": [
      "/Users/richardbrito/anaconda/lib/python3.5/site-packages/matplotlib/figure.py:445: UserWarning: Matplotlib is currently using module://ipykernel.pylab.backend_inline, which is a non-GUI backend, so cannot show the figure.\n",
      "  % get_backend())\n"
     ]
    },
    {
     "data": {
      "image/png": "[encoded data removed]",
      "text/plain": [
       "<Figure size 396x396 with 4 Axes>"
      ]
     },
     "metadata": {},
     "output_type": "display_data"
    }
   ],
   "source": [
    "fig = corner.corner(np.transpose(qnmmodes),\n",
    "                    labels=[r'$M$',\n",
    "                            r'$j$'],\n",
    "                    smooth=True,color='blue',truth_color='grey',bins=50,\n",
    "                    plot_contours=True,levels=([0.9]),\n",
    "                    truths=[68.5,0.69],range=([50,100],[0,1]),plot_datapoints=False)\n",
    "\n",
    "corner.corner(np.transpose(IMR),\n",
    "                    labels=[r'$M$',\n",
    "                            r'$j$'],\n",
    "                    smooth=True,color='black',bins=50,\n",
    "                    plot_contours=True,levels=([0.9]),\n",
    "                    range=([50,100],[0,1]),plot_datapoints=False,fig=fig)\n",
    "\n",
    "\n",
    "\n",
    "plt.minorticks_on()\n",
    "\n",
    "fig.show()"
   ]
  },
  {
   "cell_type": "code",
   "execution_count": null,
   "metadata": {
    "collapsed": true
   },
   "outputs": [],
   "source": []
  }
 ],
 "metadata": {
  "kernelspec": {
   "display_name": "Python [default]",
   "language": "python",
   "name": "python3"
  },
  "language_info": {
   "codemirror_mode": {
    "name": "ipython",
    "version": 3
   },
   "file_extension": ".py",
   "mimetype": "text/x-python",
   "name": "python",
   "nbconvert_exporter": "python",
   "pygments_lexer": "ipython3",
   "version": "3.5.2"
  }
 },
 "nbformat": 4,
 "nbformat_minor": 1
}
