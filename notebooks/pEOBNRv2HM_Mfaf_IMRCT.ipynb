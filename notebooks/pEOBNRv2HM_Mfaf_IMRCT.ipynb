{
 "cells": [
  {
   "cell_type": "code",
   "execution_count": 1,
   "metadata": {},
   "outputs": [],
   "source": [
    "from __future__ import division\n",
    "import numpy as np\n",
    "import corner\n",
    "\n",
    "%matplotlib inline\n",
    "import matplotlib.pyplot as plt\n",
    "from matplotlib.patches import Ellipse\n",
    "import matplotlib as mpl\n",
    "\n",
    "from matplotlib import rcParams\n",
    "rcParams[\"font.size\"] = 16\n",
    "rcParams[\"font.family\"] = \"serif\"\n",
    "rcParams[\"axes.labelsize\"] = 25\n",
    "mpl.rcParams['text.usetex'] = True\n"
   ]
  },
  {
   "cell_type": "code",
   "execution_count": 2,
   "metadata": {},
   "outputs": [],
   "source": [
    "Msun = 1.9885469549614615*10**30\n",
    "G = 6.67408*10**(-11)\n",
    "cc = 299792458\n",
    "\n",
    "def Mjfinal220(omega220,tau220):\n",
    "    \n",
    "    jf=1-pow((omega220*tau220/2.-0.7)/(1.4187),-1/0.4990)\n",
    "    Mf=((1.5251 - 1.1568*pow((1 - jf),0.1292))/omega220)*(cc*cc*cc/G/Msun)\n",
    "\n",
    "    return Mf,jf\n"
   ]
  },
  {
   "cell_type": "code",
   "execution_count": 3,
   "metadata": {},
   "outputs": [],
   "source": [
    "def omegaQNMGR(Mf,af):\n",
    "    \n",
    "    omegaGR=(1.5251 - 1.1568*pow((1 - af),0.1292))/(Mf*Msun*G/cc**2/cc)\n",
    "    tauGR=1/((1/2)*(omegaGR/(0.7000 + 1.4187*pow((1 - af),-0.4990))))\n",
    "\n",
    "    return omegaGR,tauGR"
   ]
  },
  {
   "cell_type": "code",
   "execution_count": null,
   "metadata": {},
   "outputs": [],
   "source": [
    "params=['reomegaqnm_a','imomegaqnm_a','reomegaqnm_b','imomegaqnm_b','mf']\n",
    "data=np.genfromtxt('/Users/richardbrito/Desktop/Projects/IMR-QNM/data/GW150914/lalinferencemcmc/EOBNRv2HMpseudoFourPN/1126259462.43-190276/H1L1/posterior_samples.dat', names=True)\n",
    "\n",
    "XEOBv2 = data[params]\n",
    "\n",
    "paramsLVC=['mf','af']\n",
    "dataLVCsamples=np.genfromtxt('/Users/richardbrito/Desktop/Projects/IMR-QNM/data/GW150914/overall_post.dat', names=True)\n",
    "XLVC = dataLVCsamples[paramsLVC]"
   ]
  },
  {
   "cell_type": "code",
   "execution_count": null,
   "metadata": {},
   "outputs": [],
   "source": [
    "MJ=Mjfinal220(XEOBv2['reomegaqnm_a']/(XEOBv2['mf']*Msun*G/(cc**2)/cc),\n",
    "           XEOBv2['mf']*Msun*G/(cc**2)/cc/XEOBv2['imomegaqnm_a'])"
   ]
  },
  {
   "cell_type": "code",
   "execution_count": null,
   "metadata": {},
   "outputs": [],
   "source": [
    "qnmmodes = np.vstack([MJ[0][(MJ[1]>0) & (MJ[1]<1)],\n",
    "                      MJ[1][(MJ[1]>0) & (MJ[1]<1)]])\n",
    "\n",
    "IMR = np.vstack([XLVC['mf'],XLVC['af']])\n"
   ]
  },
  {
   "cell_type": "code",
   "execution_count": null,
   "metadata": {},
   "outputs": [],
   "source": [
    "fig = corner.corner(np.transpose(qnmmodes),\n",
    "                    labels=[r'$M$',\n",
    "                            r'$j$'],\n",
    "                    smooth=True,color='blue',truth_color='grey',bins=50,\n",
    "                    plot_contours=True,levels=([0.9]),\n",
    "                    truths=[68.5,0.69],range=([50,100],[0,1]),plot_datapoints=False)\n",
    "\n",
    "corner.corner(np.transpose(IMR),\n",
    "                    labels=[r'$M$',\n",
    "                            r'$j$'],\n",
    "                    smooth=True,color='black',bins=50,\n",
    "                    plot_contours=True,levels=([0.9]),\n",
    "                    range=([50,100],[0,1]),plot_datapoints=False,fig=fig)\n",
    "\n",
    "\n",
    "\n",
    "plt.minorticks_on()\n",
    "\n",
    "fig.show()"
   ]
  },
  {
   "cell_type": "markdown",
   "metadata": {
    "collapsed": true
   },
   "source": [
    "## S190521"
   ]
  },
  {
   "cell_type": "code",
   "execution_count": 4,
   "metadata": {},
   "outputs": [],
   "source": [
    "params_ring=['domega220','dtauinv220','mf','af']\n",
    "params_insp=['mf','af']\n",
    "\n",
    "data_ring=np.genfromtxt('/home/abhirup.ghosh/Documents/Work/O3/2019/May/21/1242442967p4500/G333631/lalinference/20190525_pSEOBNRv4HM_domega220_dtauinv220/cbcBayes/posterior_samples.dat', names=True)\n",
    "data_insp=np.genfromtxt('/home/abhirup.ghosh/Documents/Work/O3/2019/May/21/1242442967p4500/G333631/lalinference/20190525_SEOBNRv4_ROM_IMRCT/inspiral_50Hz/1242442967.45-333631/V1H1L1/posterior_samples.dat', names=True)\n",
    "\n",
    "XSEOBv4_ring = data_ring[params_ring]\n",
    "XSEOBv4_insp = data_insp[params_insp]"
   ]
  },
  {
   "cell_type": "code",
   "execution_count": 5,
   "metadata": {},
   "outputs": [],
   "source": [
    "omegaGR0=omegaQNMGR(XSEOBv4_ring['mf'],XSEOBv4_ring['af'])[0]\n",
    "tauGR0=omegaQNMGR(XSEOBv4_ring['mf'],XSEOBv4_ring['af'])[1]"
   ]
  },
  {
   "cell_type": "code",
   "execution_count": 6,
   "metadata": {},
   "outputs": [
    {
     "name": "stderr",
     "output_type": "stream",
     "text": [
      "/.auto/home/abhirup.ghosh/.local/lib/python2.7/site-packages/ipykernel_launcher.py:7: RuntimeWarning: invalid value encountered in power\n",
      "  import sys\n"
     ]
    }
   ],
   "source": [
    "MJ=Mjfinal220(omegaGR0*(1+XSEOBv4_ring['domega220']),\n",
    "           tauGR0*(1+XSEOBv4_ring['dtauinv220']))"
   ]
  },
  {
   "cell_type": "code",
   "execution_count": 7,
   "metadata": {},
   "outputs": [
    {
     "name": "stderr",
     "output_type": "stream",
     "text": [
      "/.auto/home/abhirup.ghosh/.local/lib/python2.7/site-packages/ipykernel_launcher.py:1: RuntimeWarning: invalid value encountered in greater\n",
      "  \"\"\"Entry point for launching an IPython kernel.\n",
      "/.auto/home/abhirup.ghosh/.local/lib/python2.7/site-packages/ipykernel_launcher.py:1: RuntimeWarning: invalid value encountered in less\n",
      "  \"\"\"Entry point for launching an IPython kernel.\n",
      "/.auto/home/abhirup.ghosh/.local/lib/python2.7/site-packages/ipykernel_launcher.py:2: RuntimeWarning: invalid value encountered in greater\n",
      "  \n",
      "/.auto/home/abhirup.ghosh/.local/lib/python2.7/site-packages/ipykernel_launcher.py:2: RuntimeWarning: invalid value encountered in less\n",
      "  \n"
     ]
    }
   ],
   "source": [
    "mfaf_ring = np.vstack([MJ[0][(MJ[1]>0) & (MJ[1]<1)],\n",
    "                      MJ[1][(MJ[1]>0) & (MJ[1]<1)]])\n",
    "\n",
    "mfaf_insp = np.vstack([XSEOBv4_insp['mf'],XSEOBv4_insp['af']])\n"
   ]
  },
  {
   "cell_type": "code",
   "execution_count": 9,
   "metadata": {},
   "outputs": [
    {
     "data": {
      "image/png": "[encoded data removed]",
      "text/plain": [
       "<Figure size 396x396 with 4 Axes>"
      ]
     },
     "metadata": {
      "needs_background": "light"
     },
     "output_type": "display_data"
    }
   ],
   "source": [
    "fig = corner.corner(np.transpose(mfaf_ring),\n",
    "                    labels=[r'$M_f$',\n",
    "                            r'$a_f$'],\n",
    "                    smooth=True,color='blue',truth_color='grey',bins=50,\n",
    "                    plot_contours=True,levels=([0.9]),range=([100,500],[0,1]),plot_datapoints=False)\n",
    "\n",
    "\n",
    "corner.corner(np.transpose(mfaf_insp),\n",
    "                    labels=[r'$M_f$',\n",
    "                            r'$a_f$'],\n",
    "                    smooth=True,color='red',bins=50,\n",
    "                    plot_contours=True,levels=([0.9]),\n",
    "                    plot_datapoints=False,range=([100,500],[0,1]),fig=fig)\n",
    "\n",
    "\n",
    "plt.minorticks_on()\n",
    "\n",
    "fig.show()"
   ]
  },
  {
   "cell_type": "code",
   "execution_count": null,
   "metadata": {},
   "outputs": [],
   "source": [
    "IMR = np.vstack([XSEOBv4['mf'],XSEOBv4['af'],XSEOBv4['domega220'],XSEOBv4['dtauinv220']])\n",
    "\n",
    "corner.corner(np.transpose(IMR),\n",
    "                    labels=[r'$M$',\n",
    "                            r'$j$',r'$d\\omega_{220}$',r'$d\\tau_{220}$'],\n",
    "                    smooth=True,color='blue',truth_color='grey',bins=50,\n",
    "                    plot_contours=True,levels=([0.9]),\n",
    "                    plot_datapoints=False)\n",
    "plt.show()"
   ]
  },
  {
   "cell_type": "code",
   "execution_count": null,
   "metadata": {},
   "outputs": [],
   "source": []
  }
 ],
 "metadata": {
  "anaconda-cloud": {},
  "kernelspec": {
   "display_name": "Python 2",
   "language": "python",
   "name": "python2"
  },
  "language_info": {
   "codemirror_mode": {
    "name": "ipython",
    "version": 2
   },
   "file_extension": ".py",
   "mimetype": "text/x-python",
   "name": "python",
   "nbconvert_exporter": "python",
   "pygments_lexer": "ipython2",
   "version": "2.7.13"
  }
 },
 "nbformat": 4,
 "nbformat_minor": 1
}
