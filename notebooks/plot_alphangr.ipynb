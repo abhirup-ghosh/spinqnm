{
 "cells": [
  {
   "cell_type": "code",
   "execution_count": 1,
   "metadata": {},
   "outputs": [],
   "source": [
    "import numpy as np\n",
    "import matplotlib.pyplot as plt"
   ]
  },
  {
   "cell_type": "code",
   "execution_count": 3,
   "metadata": {},
   "outputs": [],
   "source": [
    "alpha_list = [\"p2_alpha\",\n",
    "\"p2_df0_df1_alpha\",\n",
    "\"p2_df0_df1_alpha_widerdf1prior\",\n",
    "\"p2_df0_dtau0_alpha\",\n",
    "\"p2_df1_dtau1_alpha\",\n",
    "\"p2_df1_dtau1_alpha_widerprior\",\n",
    "\"p2_dtau0_dtau1_alpha\",\n",
    "\"p2_dtau0_dtau1_alpha_widerdtau1prior\"]"
   ]
  },
  {
   "cell_type": "code",
   "execution_count": 11,
   "metadata": {},
   "outputs": [
    {
     "name": "stdout",
     "output_type": "stream",
     "text": [
      "alphangr data not present\n",
      "alphangr data not present\n",
      "alphangr data not present\n"
     ]
    },
    {
     "data": {
      "text/plain": [
       "Text(0,0.5,'p($\\\\alpha _{NGR}$)')"
      ]
     },
     "execution_count": 11,
     "metadata": {},
     "output_type": "execute_result"
    },
    {
     "data": {
      "image/png": "[encoded data removed]",
      "text/plain": [
       "<Figure size 360x360 with 1 Axes>"
      ]
     },
     "metadata": {
      "needs_background": "light"
     },
     "output_type": "display_data"
    }
   ],
   "source": [
    "plt.figure(figsize=(5,5))\n",
    "\n",
    "for alpha in alpha_list:\n",
    "    try:\n",
    "        data = np.genfromtxt(\"../runs/O1O2/GW150914/parspec_runs/%s/cbcBayes/posterior_samples.dat\"%alpha, names=True, dtype=None)\n",
    "        alphadata = data['alphangr']\n",
    "        plt.hist(alphadata, bins=20, alpha=0.5, normed=True, histtype='step')\n",
    "    except IOError:\n",
    "        print('alphangr data not present')\n",
    "plt.xlabel(r'$\\alpha _{NGR}$')        \n",
    "plt.ylabel(r'p($\\alpha _{NGR}$)')        "
   ]
  },
  {
   "cell_type": "code",
   "execution_count": null,
   "metadata": {},
   "outputs": [],
   "source": []
  }
 ],
 "metadata": {
  "kernelspec": {
   "display_name": "Python 2",
   "language": "python",
   "name": "python2"
  },
  "language_info": {
   "codemirror_mode": {
    "name": "ipython",
    "version": 2
   },
   "file_extension": ".py",
   "mimetype": "text/x-python",
   "name": "python",
   "nbconvert_exporter": "python",
   "pygments_lexer": "ipython2",
   "version": "2.7.13"
  }
 },
 "nbformat": 4,
 "nbformat_minor": 2
}
