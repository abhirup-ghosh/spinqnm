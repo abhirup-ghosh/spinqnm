{
 "cells": [
  {
   "cell_type": "markdown",
   "metadata": {},
   "source": [
    "# From  parspec to theory-specific"
   ]
  },
  {
   "cell_type": "markdown",
   "metadata": {},
   "source": [
    "## 0. Set up "
   ]
  },
  {
   "cell_type": "code",
   "execution_count": 1,
   "metadata": {},
   "outputs": [],
   "source": [
    "import numpy as np\n",
    "import matplotlib.pyplot as plt\n",
    "import corner\n",
    "\n",
    "%matplotlib inline\n",
    "%config InlineBackend.figure_format='retina'\n",
    "\n",
    "path = '/Users/hectorokadadasilva/Documents/work/computing/tools/mplstyle/'\n",
    "plt.style.use(path + 'computermodernstyle.mplstyle')"
   ]
  },
  {
   "cell_type": "code",
   "execution_count": null,
   "metadata": {},
   "outputs": [],
   "source": [
    "# Conversion factors\n"
   ]
  },
  {
   "cell_type": "code",
   "execution_count": 2,
   "metadata": {},
   "outputs": [],
   "source": [
    "# Path to data\n",
    "\n",
    "path_to_data = '../data/parspec/'"
   ]
  },
  {
   "cell_type": "code",
   "execution_count": 3,
   "metadata": {},
   "outputs": [],
   "source": [
    "# Load data\n",
    "\n",
    "# The data corresponds to \n",
    "# { δω220^{(0)}, δτ220^{(0)}, ℓ }\n",
    "# runs\n",
    "\n",
    "# -------------------------------------------\n",
    "#                 Content\n",
    "# -------------------------------------------\n",
    "# | df | dtau | f | tau | ell | mf | af | z |\n",
    "# -------------------------------------------\n",
    "\n",
    "p0_df0_dtau0_l = np.loadtxt(path_to_data + 'p0_df0_dtau0_l.dat', unpack=True)\n",
    "p2_df0_dtau0_l = np.loadtxt(path_to_data + 'p2_df0_dtau0_l.dat', unpack=True)\n",
    "p4_df0_dtau0_l = np.loadtxt(path_to_data + 'p4_df0_dtau0_l.dat', unpack=True)\n",
    "p6_df0_dtau0_l = np.loadtxt(path_to_data + 'p6_df0_dtau0_l.dat', unpack=True)"
   ]
  },
  {
   "cell_type": "code",
   "execution_count": 17,
   "metadata": {},
   "outputs": [
    {
     "data": {
      "text/plain": [
       "4001"
      ]
     },
     "execution_count": 17,
     "metadata": {},
     "output_type": "execute_result"
    }
   ],
   "source": [
    "len(p0_df0_dtau0_l[6])"
   ]
  },
  {
   "cell_type": "markdown",
   "metadata": {},
   "source": [
    "## 1. Quick visualisation"
   ]
  },
  {
   "cell_type": "code",
   "execution_count": 13,
   "metadata": {},
   "outputs": [
    {
     "data": {
      "image/png": "[encoded data removed]",
      "text/plain": [
       "<Figure size 360x216 with 1 Axes>"
      ]
     },
     "metadata": {
      "image/png": {
       "height": 197,
       "width": 333
      },
      "needs_background": "light"
     },
     "output_type": "display_data"
    }
   ],
   "source": [
    "plt.hist(p0_df0_dtau0_l[6], density=True, facecolor='g', alpha=0.75);"
   ]
  },
  {
   "cell_type": "markdown",
   "metadata": {},
   "source": [
    "## 2. Functions to translate posteriors"
   ]
  },
  {
   "cell_type": "code",
   "execution_count": 15,
   "metadata": {},
   "outputs": [],
   "source": [
    "def fit_dCS(M, chi, zeta, spin_flag=False):\n",
    "    \"\"\"\n",
    "    Parameters:\n",
    "    ----------\n",
    "    M    = mass\n",
    "    chi  = dimensionless spin parameter a / M = J / M^2\n",
    "    zeta = dimensionless Chern-Simons expansion parameter\n",
    "           zeta := \\alpha_{CS}^{2} / (M^{4} \\kappa)\n",
    "                 = 16 \\pi (\\alpha_{CS} / M^{2})^{4}\n",
    "                 \n",
    "    Output:\n",
    "    ------\n",
    "    wAR  = real part of the axial l = m = 2 mode\n",
    "    wAI  = imaginary part of the axial l = m = 2 mode\n",
    "    wPR  = real part of the polar l = m = 2 mode\n",
    "    wPI  = imaginary part of the polar l = m = 2 mode\n",
    "    \"\"\"\n",
    "\n",
    "    # Include spin corrections?\n",
    "    \n",
    "    if spin_flag == False:\n",
    "        s = 0\n",
    "    else:\n",
    "        s = 1\n",
    "        \n",
    "    fr = [0.7814, 9.4099, -0.4092, -8.2154, 0.4547, 3.5368]\n",
    "    fi = [0.5454, -1.4771, -0.6360, 2.0641, 0.3950, -1.2499]\n",
    "    \n",
    "    kappa = 1. / (16.*np.pi)\n",
    "\n",
    "    # ----------------------\n",
    "    # Axial modes, real part\n",
    "    # ----------------------\n",
    "    wAR_exp = fr[4] + fr[5]*kappa*zeta\n",
    "    wAR     = fr[0] + fr[1]*kappa*zeta \\\n",
    "              + (fr[2] + fr[3]*kappa*zeta)*np.pow(1. - s*chi, wAR_exp)\n",
    "    \n",
    "    # ---------------------------\n",
    "    # Axial modes, imaginary part\n",
    "    # ---------------------------    \n",
    "    wAI_exp = fi[4] + fi[5]*kappa*zeta\n",
    "    wAI     = fi[0] + fi[1]*kappa*zeta \\\n",
    "              + (fi[2] + fi[3]*kappa*zeta)*np.pow(1. - s*chi, wAI_exp)\n",
    "    \n",
    "    # ----------------------\n",
    "    # Polar modes, real part\n",
    "    # ----------------------\n",
    "    wPR_exp = 0.483296 - 5.57144*kappa*zeta\n",
    "    wPR     = 0.907205 - 0.534230*np.pow(1. - s*chi, wPR_exp)\n",
    "    \n",
    "    # ---------------------------\n",
    "    # Polar modes, imaginary part\n",
    "    # ---------------------------    \n",
    "    wPI_exp = 0.382411 - 2.17102*kappa*zeta\n",
    "    wPI     = 0.511681 - 0.601668*np.pow(1. - s*chi, wPI_exp)\n",
    "    \n",
    "    return np.array(wAR, wAI, wPR, wPI) / M"
   ]
  },
  {
   "cell_type": "code",
   "execution_count": 11,
   "metadata": {},
   "outputs": [],
   "source": [
    "def do_translation(data, p, theory):\n",
    "    # ------------------\n",
    "    # Separate data file\n",
    "    # ------------------\n",
    "    \n",
    "    # real and imaginary parts of the frequency\n",
    "    f, tau   = data[2], data[3]\n",
    "    \n",
    "    # fractional changes to real and imaginaty parts of the frequency\n",
    "    df, dtau = data[0], data[1]\n",
    "    \n",
    "    # length scale\n",
    "    ell = data[5]\n",
    "    \n",
    "    # remnant's mass, spin and redshift\n",
    "    mf, af, z = data[6], data[7], data[8]\n",
    "    \n",
    "    # ------------------------------------\n",
    "    # Prepare to call translator functions\n",
    "    # ------------------------------------\n",
    "\n",
    "    # For now only p = 4 and p = 6    \n",
    "    assert (tmp == 4) or (tmp == 6), \"Invalid p-value\"\n",
    "    \n",
    "    if (tmp == 4):\n",
    "        assert (theory == \"dCS\") or (theory == \"sGB\"), \"Invalid theory\"\n",
    "    if (tmp == 6):\n",
    "        assert (theory == \"EFTofGR\")\n",
    "        \n",
    "    # TODO: complete."
   ]
  },
  {
   "cell_type": "code",
   "execution_count": 9,
   "metadata": {},
   "outputs": [
    {
     "ename": "AssertionError",
     "evalue": "Invalid p-value",
     "output_type": "error",
     "traceback": [
      "\u001b[0;31m---------------------------------------------------------------------------\u001b[0m",
      "\u001b[0;31mAssertionError\u001b[0m                            Traceback (most recent call last)",
      "\u001b[0;32m<ipython-input-9-6dd766960678>\u001b[0m in \u001b[0;36m<module>\u001b[0;34m\u001b[0m\n\u001b[1;32m      1\u001b[0m \u001b[0mtmp\u001b[0m \u001b[0;34m=\u001b[0m \u001b[0;36m3\u001b[0m\u001b[0;34m\u001b[0m\u001b[0;34m\u001b[0m\u001b[0m\n\u001b[0;32m----> 2\u001b[0;31m \u001b[0;32massert\u001b[0m \u001b[0;34m(\u001b[0m\u001b[0mtmp\u001b[0m \u001b[0;34m==\u001b[0m \u001b[0;36m2\u001b[0m\u001b[0;34m)\u001b[0m \u001b[0;32mor\u001b[0m \u001b[0;34m(\u001b[0m\u001b[0mtmp\u001b[0m \u001b[0;34m==\u001b[0m \u001b[0;36m4\u001b[0m\u001b[0;34m)\u001b[0m\u001b[0;34m,\u001b[0m \u001b[0;34m\"Invalid p-value\"\u001b[0m\u001b[0;34m\u001b[0m\u001b[0;34m\u001b[0m\u001b[0m\n\u001b[0m",
      "\u001b[0;31mAssertionError\u001b[0m: Invalid p-value"
     ]
    }
   ],
   "source": [
    "tmp = 3\n",
    "assert (tmp == 2) or (tmp == 4), \"Invalid p-value\""
   ]
  },
  {
   "cell_type": "code",
   "execution_count": null,
   "metadata": {},
   "outputs": [],
   "source": []
  }
 ],
 "metadata": {
  "kernelspec": {
   "display_name": "Python 3",
   "language": "python",
   "name": "python3"
  },
  "language_info": {
   "codemirror_mode": {
    "name": "ipython",
    "version": 3
   },
   "file_extension": ".py",
   "mimetype": "text/x-python",
   "name": "python",
   "nbconvert_exporter": "python",
   "pygments_lexer": "ipython3",
   "version": "3.9.6"
  }
 },
 "nbformat": 4,
 "nbformat_minor": 4
}
