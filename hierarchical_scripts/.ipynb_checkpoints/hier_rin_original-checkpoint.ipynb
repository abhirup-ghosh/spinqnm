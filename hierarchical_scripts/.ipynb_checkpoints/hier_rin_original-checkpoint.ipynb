{
 "cells": [
  {
   "cell_type": "markdown",
   "metadata": {
    "Collapsed": "false"
   },
   "source": [
    "# Ringdown analyses"
   ]
  },
  {
   "cell_type": "markdown",
   "metadata": {
    "Collapsed": "false"
   },
   "source": [
    "## Setup"
   ]
  },
  {
   "cell_type": "code",
   "execution_count": 1,
   "metadata": {
    "Collapsed": "false",
    "collapsed": false
   },
   "outputs": [
    {
     "name": "stdout",
     "output_type": "stream",
     "text": [
      "Populating the interactive namespace from numpy and matplotlib\n"
     ]
    }
   ],
   "source": [
    "%pylab inline"
   ]
  },
  {
   "cell_type": "code",
   "execution_count": 2,
   "metadata": {
    "Collapsed": "false",
    "collapsed": true
   },
   "outputs": [],
   "source": [
    "import os\n",
    "import pystan\n",
    "import seaborn as sns\n",
    "import utils\n",
    "import arviz as az\n",
    "\n",
    "sns.set(style='ticks', context='notebook', font='serif', \n",
    "        font_scale=1.5, palette='deep')\n",
    "plt.rcParams[\"text.usetex\"] = \"true\"\n",
    "numpy.random.seed(1234)"
   ]
  },
  {
   "cell_type": "markdown",
   "metadata": {
    "Collapsed": "false"
   },
   "source": [
    "## Preprocessing"
   ]
  },
  {
   "cell_type": "markdown",
   "metadata": {
    "Collapsed": "false"
   },
   "source": [
    "Set some global settings:"
   ]
  },
  {
   "cell_type": "code",
   "execution_count": 3,
   "metadata": {
    "Collapsed": "false",
    "collapsed": true
   },
   "outputs": [],
   "source": [
    "test = 'rin'\n",
    "\n",
    "# Input directory for individual samples from each run\n",
    "input_paths_dict = {\n",
    "    'pyring': '/home/max.isi/papers/o3a-cbc-tgr/release/rin/{event}/rin_{event}_pyring_{par}.dat.gz',\n",
    "    'pseob': '/home/max.isi/papers/o3a-cbc-tgr/release/rin/{event}/rin_{event}_pseobnrv4hm_{par}.dat.gz',\n",
    "}\n",
    "\n",
    "events_dict = {\n",
    "    'pyring': None,\n",
    "    'pseob': ['S190519bj', 'S190521r', 'S190910s']\n",
    "}\n",
    "\n",
    "params_dict = {\n",
    "    'pyring': ['domega_221'],\n",
    "    'pseob': ['domega_220', 'dtau_220'],\n",
    "}\n",
    "\n",
    "LOAD_CACHE = False\n",
    "FORCE_LOAD_DATA = True"
   ]
  },
  {
   "cell_type": "markdown",
   "metadata": {
    "Collapsed": "false"
   },
   "source": [
    "## Fit"
   ]
  },
  {
   "cell_type": "markdown",
   "metadata": {
    "Collapsed": "false"
   },
   "source": [
    "If previous results not found in disk, load `stan` model and fit it, looping over both ringdown analyses (`pyring` and `pseob`), whose parameters and events are defined above."
   ]
  },
  {
   "cell_type": "code",
   "execution_count": 4,
   "metadata": {
    "Collapsed": "false",
    "collapsed": false
   },
   "outputs": [
    {
     "name": "stdout",
     "output_type": "stream",
     "text": [
      "Fitting run: pyring\n",
      "-------------\n"
     ]
    },
    {
     "name": "stderr",
     "output_type": "stream",
     "text": [
      "INFO:pystan:COMPILING THE C++ CODE FOR MODEL anon_model_170ba1c77bece6c3fe4940215936cfda NOW.\n"
     ]
    },
    {
     "name": "stdout",
     "output_type": "stream",
     "text": [
      "Loaded 'domega_221' samples from 17 events.\n"
     ]
    },
    {
     "name": "stderr",
     "output_type": "stream",
     "text": [
      "/home/max.isi/.conda/envs/ringdown/lib/python3.7/site-packages/Cython/Compiler/Main.py:369: FutureWarning: Cython directive 'language_level' not set, using 2 for now (Py2). This will change in a later release! File: /tmp/tmp3w8kcph1/stanfit4anon_model_170ba1c77bece6c3fe4940215936cfda_8372007483767011629.pyx\n",
      "  tree = Parsing.p_module(s, pxd, full_module_name)\n"
     ]
    },
    {
     "name": "stdout",
     "output_type": "stream",
     "text": [
      "Cached domega_221\n",
      "Events logged: '../cache/rin/pyring/events.json'\n",
      "Fitting run: pseob\n",
      "-------------\n",
      "Loaded 'domega_220' samples from 9 events.\n",
      "Loaded 'dtau_220' samples from 9 events.\n",
      "Kept 'domega_220' samples from 3 events.\n",
      "Kept 'dtau_220' samples from 3 events.\n"
     ]
    },
    {
     "name": "stderr",
     "output_type": "stream",
     "text": [
      "WARNING:pystan:7 of 4000 iterations ended with a divergence (0.175%).\n",
      "WARNING:pystan:Try running with adapt_delta larger than 0.8 to remove the divergences.\n",
      "WARNING:pystan:1 of 4000 iterations ended with a divergence (0.025%).\n",
      "WARNING:pystan:Try running with adapt_delta larger than 0.8 to remove the divergences.\n"
     ]
    },
    {
     "name": "stdout",
     "output_type": "stream",
     "text": [
      "Cached domega_220\n",
      "Cached dtau_220\n",
      "Events logged: '../cache/rin/pseob/events.json'\n"
     ]
    }
   ],
   "source": [
    "fits_dict = {}\n",
    "\n",
    "for run, input_path in input_paths_dict.items():\n",
    "    print(\"Fitting run: %s\\n-------------\" % run)\n",
    "    \n",
    "    # Names of parameters (used to load files)\n",
    "    params = params_dict[run]\n",
    "    \n",
    "    # Define cache path and create dir if needed\n",
    "    cache_path = os.path.join('../cache/', test, run, '{par}_{hyper}.txt.gz')\n",
    "    cache_dir = os.path.dirname(cache_path)\n",
    "    if not os.path.exists(cache_dir):\n",
    "        os.makedirs(cache_dir)\n",
    "        print(\"Created: %r\" % cache_dir)\n",
    "\n",
    "    # Attempt to load data and/or cached fit results\n",
    "    data, fits, paths = utils.load_data_fits(params, input_path,\n",
    "                                             cache=cache_path if LOAD_CACHE else '',\n",
    "                                             force_load_data=FORCE_LOAD_DATA)\n",
    "    for param, samp_dict in data.items():\n",
    "        print(\"Loaded %r samples from %i events.\" % (param, len(samp_dict)))\n",
    "    \n",
    "    loaded_cache = all([p in fits for p in params])\n",
    "    \n",
    "    # purge parameters for which no data was found\n",
    "    params = [p for p in params if len(data[p])>0]\n",
    "    for p in data.keys():\n",
    "        data = {k: v for k,v in data.items() if p in params}\n",
    "        fits = {k: v for k,v in fits.items() if p in params}\n",
    "        paths = {k: v for k,v in paths.items() if p in params}\n",
    "\n",
    "    # only some events are good for combining, remove the rest\n",
    "    if events_dict[run] is not None:\n",
    "        for p in data.keys():\n",
    "            for d in [data, paths]:\n",
    "                if p in d:\n",
    "                    d[p] = {k: v for k,v in d[p].items() if k in events_dict[run]}\n",
    "            print(\"Kept %r samples from %i events.\" % (p, len(data[p])))\n",
    "\n",
    "    # If population fit not pre-loaded from disk, load Stan model and fit it.\n",
    "    try:\n",
    "        if model is None and not all([p in fits for p in params]):\n",
    "            model = pystan.StanModel(file='hierGRtest.stan')\n",
    "    except NameError:\n",
    "        if not all([p in fits for p in params]):\n",
    "            model = pystan.StanModel(file='hierGRtest.stan')\n",
    "        else:\n",
    "            # no need to load model because fits cached\n",
    "            model = None\n",
    "            \n",
    "    # Fit it! (only if needed: `fit_all` checks whether fit already exists)\n",
    "    fits = utils.fit_all(data, fits=fits, model=model, cache=cache_path)\n",
    "    if cache_path and not loaded_cache:\n",
    "        utils.save_cache(fits, cache_path, paths=paths)\n",
    "    fits_dict[run] = fits"
   ]
  },
  {
   "cell_type": "markdown",
   "metadata": {
    "Collapsed": "false"
   },
   "source": [
    "## Summary stats"
   ]
  },
  {
   "cell_type": "code",
   "execution_count": 5,
   "metadata": {
    "Collapsed": "false",
    "collapsed": false
   },
   "outputs": [
    {
     "name": "stdout",
     "output_type": "stream",
     "text": [
      "##################################\n",
      "Run: pyring\n",
      "Hyperparamter constraints (90% CL)\n",
      "----------------------------------\n",
      "domega_221 (x1)\n",
      "\tmu:\t0.04 +0.19 -0.20  [0.39]\n",
      "\tsigma: < 0.24\n",
      "\n",
      "##################################\n",
      "Run: pseob\n",
      "Hyperparamter constraints (90% CL)\n",
      "----------------------------------\n",
      "domega_220 (x1)\n",
      "\tmu:\t0.03 +0.17 -0.18  [0.35]\n",
      "\tsigma: < 0.37\n",
      "dtau_220 (x1)\n",
      "\tmu:\t0.16 +0.47 -0.46  [0.93]\n",
      "\tsigma: < 0.88\n",
      "\n"
     ]
    }
   ],
   "source": [
    "for run, fits in fits_dict.items():\n",
    "    print('##################################')\n",
    "    print('Run: %s' % run)\n",
    "    hyper_ci_dict = utils.get_hyper_summary(fits)\n",
    "    print()"
   ]
  },
  {
   "cell_type": "markdown",
   "metadata": {
    "Collapsed": "false"
   },
   "source": [
    "The inferred population distribution for each parameter given the events to date.\n",
    "(If GR is correct this should be a $\\delta$-function.).\n",
    "This is our inference for the distribution of allowed deviations from GR."
   ]
  },
  {
   "cell_type": "code",
   "execution_count": 6,
   "metadata": {
    "Collapsed": "false",
    "collapsed": false
   },
   "outputs": [
    {
     "name": "stdout",
     "output_type": "stream",
     "text": [
      "##################################\n",
      "Run: pyring\n",
      "Symmetric 90%-credible interval\n",
      "--------------------------------\n",
      "domega_221 (x1):\t0.04 +0.27 -0.32\t[0.59]\n",
      "\n",
      "##################################\n",
      "Run: pseob\n",
      "Symmetric 90%-credible interval\n",
      "--------------------------------\n",
      "domega_220 (x1):\t0.03 +0.38 -0.35\t[0.72]\n",
      "dtau_220 (x1):\t0.16 +0.98 -0.98\t[1.96]\n",
      "\n"
     ]
    }
   ],
   "source": [
    "for run, fits in fits_dict.items():\n",
    "    print('##################################')\n",
    "    print('Run: %s' % run)\n",
    "    draws = utils.draw_population(fits, params=params_dict[run])\n",
    "    ci_dict = utils.get_pop_summary(draws)\n",
    "    print()"
   ]
  },
  {
   "cell_type": "markdown",
   "metadata": {
    "Collapsed": "false"
   },
   "source": [
    "## Visual checks"
   ]
  },
  {
   "cell_type": "markdown",
   "metadata": {
    "Collapsed": "false"
   },
   "source": [
    "Visualize the first fit:"
   ]
  },
  {
   "cell_type": "code",
   "execution_count": 7,
   "metadata": {
    "Collapsed": "false",
    "collapsed": false
   },
   "outputs": [
    {
     "data": {
      "image/png": "[encoded data removed]",
      "text/plain": [
       "<Figure size 864x432 with 6 Axes>"
      ]
     },
     "metadata": {},
     "output_type": "display_data"
    }
   ],
   "source": [
    "fit = fits_dict['pyring']['domega_221']\n",
    "truth_lines = [(k, {}, 0) for k in ['mu', 'sigma', 'pop']]\n",
    "az.plot_trace(fit, lines=truth_lines);"
   ]
  },
  {
   "cell_type": "code",
   "execution_count": null,
   "metadata": {
    "Collapsed": "false",
    "collapsed": true
   },
   "outputs": [],
   "source": [
    "fit = fits_dict['pseob']['domega_220']\n",
    "truth_lines = [(k, {}, 0) for k in ['mu', 'sigma', 'pop']]\n",
    "az.plot_trace(fit, lines=truth_lines);"
   ]
  },
  {
   "cell_type": "markdown",
   "metadata": {
    "Collapsed": "false"
   },
   "source": [
    "## Plots"
   ]
  },
  {
   "cell_type": "code",
   "execution_count": null,
   "metadata": {
    "Collapsed": "false",
    "collapsed": true
   },
   "outputs": [],
   "source": [
    "def get_label(k):\n",
    "    p = k.split('_')[0][1:].replace('omega', 'f').replace('tau', r'\\tau')\n",
    "    lmn = k.split('_')[1]\n",
    "    return r'$\\delta %s_{%s}$' % (p, lmn)"
   ]
  },
  {
   "cell_type": "code",
   "execution_count": null,
   "metadata": {
    "Collapsed": "false",
    "collapsed": true
   },
   "outputs": [],
   "source": [
    "for run, fits in fits_dict.items():\n",
    "    xlim = [-2, 2]\n",
    "    for i, param in enumerate(params_dict[run]):\n",
    "        c = sns.color_palette()[i]\n",
    "        l = get_label(param)\n",
    "        x = fits[param]['pop']\n",
    "        sns.distplot(x, label=l, hist=False,\n",
    "                     kde_kws={'gridsize': 500, 'lw': 2},\n",
    "                     hist_kws={'range': xlim}, color=c)\n",
    "        gca().axvline(percentile(x, 10), ls=':', c=c)\n",
    "        gca().axvline(percentile(x, 90), ls=':', c=c)\n",
    "    gca().axvline(0, c='k', ls='--', alpha=0.8)\n",
    "    plt.xlim(*xlim)\n",
    "    plt.xlabel(r'Fractional deviation')\n",
    "    plt.ylabel('PDF')\n",
    "    plt.legend(framealpha=0.7, edgecolor='w', title=run)\n",
    "    figure()"
   ]
  },
  {
   "cell_type": "code",
   "execution_count": null,
   "metadata": {
    "Collapsed": "false",
    "collapsed": true
   },
   "outputs": [],
   "source": []
  }
 ],
 "metadata": {
  "anaconda-cloud": {},
  "kernelspec": {
   "display_name": "Python [conda env:anaconda]",
   "language": "python",
   "name": "conda-env-anaconda-py"
  },
  "language_info": {
   "codemirror_mode": {
    "name": "ipython",
    "version": 3
   },
   "file_extension": ".py",
   "mimetype": "text/x-python",
   "name": "python",
   "nbconvert_exporter": "python",
   "pygments_lexer": "ipython3",
   "version": "3.5.6"
  },
  "toc": {
   "base_numbering": 1,
   "nav_menu": {},
   "number_sections": true,
   "sideBar": true,
   "skip_h1_title": false,
   "title_cell": "Table of Contents",
   "title_sidebar": "Contents",
   "toc_cell": false,
   "toc_position": {
    "height": "calc(100% - 180px)",
    "left": "10px",
    "top": "150px",
    "width": "247px"
   },
   "toc_section_display": true,
   "toc_window_display": true
  }
 },
 "nbformat": 4,
 "nbformat_minor": 4
}
