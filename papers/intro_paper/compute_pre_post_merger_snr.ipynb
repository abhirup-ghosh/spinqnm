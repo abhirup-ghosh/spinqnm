{
 "cells": [
  {
   "cell_type": "code",
   "execution_count": 1,
   "id": "specific-watts",
   "metadata": {},
   "outputs": [],
   "source": [
    "#       Copyright 2021\n",
    "#       Abhirup Ghosh <abhirup.ghosh.184098@gmail.com>,\n",
    "#\n",
    "#       This program is free software; you can redistribute it and/or modify\n",
    "#       it under the terms of the GNU General Public License as published by\n",
    "#       the Free Software Foundation; either version 2 of the License, or\n",
    "#       (at your option) any later version.\n",
    "#\n",
    "#       This program is distributed in the hope that it will be useful,\n",
    "#       but WITHOUT ANY WARRANTY; without even the implied warranty of\n",
    "#       MERCHANTABILITY or FITNESS FOR A PARTICULAR PURPOSE.  See the\n",
    "#       GNU General Public License for more details.\n",
    "#\n",
    "#       You should have received a copy of the GNU General Public License\n",
    "#       along with this program; if not, write to the Free Software\n",
    "#       Foundation, Inc., 51 Franklin Street, Fifth Floor, Boston,\n",
    "#       MA 02110-1301, USA."
   ]
  },
  {
   "cell_type": "code",
   "execution_count": 2,
   "id": "inside-couple",
   "metadata": {},
   "outputs": [],
   "source": [
    "import numpy as np\n",
    "import pandas as pd\n",
    "from pycbc.waveform import get_fd_waveform\n",
    "from pycbc  import  detector\n",
    "from bilby_pipe import xml_converter \n",
    "import matplotlib.pyplot as plt\n",
    "import pycbc.filter.matchedfilter as mfilter\n",
    "import pycbc.psd\n",
    "import pycbc.noise.gaussian\n",
    "import pycbc.types.frequencyseries\n",
    "from pycbc.types import TimeSeries, FrequencySeries, zeros\n",
    "\n",
    "import lal, lalinference, numpy as np\n",
    "import lalinference.imrtgr.imrtgrutils as tgr\n",
    "import lalinference.imrtgr.nrutils as nr"
   ]
  },
  {
   "cell_type": "code",
   "execution_count": 3,
   "id": "novel-intranet",
   "metadata": {},
   "outputs": [],
   "source": [
    "def calc_isco_freq(a):\n",
    "        \"\"\" \n",
    "        Calculate the ISCO frequency of a Kerr BH as a function of the Kerr parameter \n",
    "        \n",
    "        a : Kerr parameter (numpy array) \n",
    "        \"\"\"\n",
    "\n",
    "        r_isco = nr.calc_isco_radius(a)\n",
    "        u_isco = r_isco**-0.5\n",
    "        v_isco = u_isco*(1.-a*u_isco**3.+a**2.*u_isco**6)**(1./3.)\n",
    "        return v_isco**3./np.pi"
   ]
  },
  {
   "cell_type": "code",
   "execution_count": 4,
   "id": "hollywood-luther",
   "metadata": {},
   "outputs": [],
   "source": [
    "data_dict = {'gw150914': np.genfromtxt(\"/Users/abhirupghosh/Documents/Work/spinqnm/runs/nonGR/GW150914-like/domega220_dtau220_0p0_GR_widerdist/GW150914-like_nonGR_0p0.dat\"),\n",
    "             'gw190521': np.genfromtxt(\"/Users/abhirupghosh/Documents/Work/spinqnm/runs/nonGR/GW190521-like/domega220_dtau220_0p0_GR_widerdist/GW190521-like_nonGR_0p0.dat\"),\n",
    "             'sxsbbh1066': np.genfromtxt(\"/Users/abhirupghosh/Documents/Work/spinqnm/runs/NRinjections/SXS_BBH_0166/hwinjcbc_1126259456.xml.dat\")}"
   ]
  },
  {
   "cell_type": "code",
   "execution_count": 5,
   "id": "spread-richmond",
   "metadata": {},
   "outputs": [
    {
     "name": "stdout",
     "output_type": "stream",
     "text": [
      "130.92 & 25.20 & 22.22 & 11.88\n",
      "31.91 & 19.56 & 7.90 & 17.90\n",
      "73.55 & 70.85 & 57.68 & 41.15\n"
     ]
    }
   ],
   "source": [
    "df = 1./4\n",
    "fit_formula = 'bbh_average_fits_precessing'\n",
    "\n",
    "for (flow, fhigh, event) in zip([20., 11., 25.], [1024., 256., 2048.], ['gw150914', 'gw190521', 'sxsbbh1066']):\n",
    "\n",
    "    mass_1, mass_2, luminosity_distance, psi, phase, geocent_time, ra, dec, theta_jn, a_1, a_2, tilt_1, tilt_2, phi_12, phi_jl = data_dict[event]\n",
    "    \n",
    "    Mf, af = tgr.calc_final_mass_spin(mass_1, mass_2, a_1, a_2, a_1*np.cos(tilt_1), a_2*np.cos(tilt_2), phi_12, fit_formula)\n",
    "    f_isco_Kerr = calc_isco_freq(af)/(Mf*lal.MTSUN_SI)\n",
    "\n",
    "    hpf, hcf = get_fd_waveform(approximant=\"IMRPhenomPv2\",\n",
    "                                mass1=mass_1, mass2=mass_2, \n",
    "                                spin1z=a_1*np.cos(tilt_1), spin2z=a_2*np.cos(tilt_2),\n",
    "                                inclination=theta_jn,\n",
    "                                coa_phase=phase,\n",
    "                                distance=luminosity_distance,\n",
    "                                delta_f=df,\n",
    "                                f_lower=8.)\n",
    "\n",
    "    psd = pycbc.psd.aLIGOZeroDetHighPower(len(hpf), df, flow)\n",
    "\n",
    "    snr_sq_tot = 0\n",
    "    snr_sq_pre = 0\n",
    "    snr_sq_post = 0\n",
    "    \n",
    "    if event == 'sxsbbh1066':\n",
    "        det_list = [\"H1\", \"L1\", \"V1\"]\n",
    "    else:\n",
    "        det_list = [\"H1\", \"L1\"]\n",
    "\n",
    "    for det in det_list:\n",
    "        d = pycbc.detector.Detector(det)\n",
    "        Fp,Fc = d.antenna_pattern(right_ascension=ra, \n",
    "                                declination=dec, \n",
    "                                polarization=psi,\n",
    "                                t_gps=geocent_time, \n",
    "                                polarization_type='tensor')\n",
    "        signal = Fp*hpf+Fc*hcf\n",
    "        signal_freq = pycbc.types.frequencyseries.FrequencySeries(signal,delta_f=df,dtype=complex)\n",
    "        SNR_tot = mfilter.sigma(signal_freq,psd=psd,low_frequency_cutoff=flow,high_frequency_cutoff=fhigh)\n",
    "        SNR_pre = mfilter.sigma(signal_freq,psd=psd,low_frequency_cutoff=flow,high_frequency_cutoff=f_isco_Kerr)\n",
    "        SNR_post = mfilter.sigma(signal_freq,psd=psd,low_frequency_cutoff=f_isco_Kerr,high_frequency_cutoff=fhigh)\n",
    "        \n",
    "        snr_sq_tot += SNR_tot**2.\n",
    "        snr_sq_pre += SNR_pre**2.\n",
    "        snr_sq_post += SNR_post**2.\n",
    "\n",
    "    print(f\"{f_isco_Kerr:.2f} & {np.sqrt(snr_sq_tot):.2f} & {np.sqrt(snr_sq_pre):.2f} & {np.sqrt(snr_sq_post):.2f}\")    "
   ]
  },
  {
   "cell_type": "code",
   "execution_count": null,
   "id": "confidential-creativity",
   "metadata": {},
   "outputs": [],
   "source": []
  }
 ],
 "metadata": {
  "kernelspec": {
   "display_name": "Python 3",
   "language": "python",
   "name": "python3"
  },
  "language_info": {
   "codemirror_mode": {
    "name": "ipython",
    "version": 3
   },
   "file_extension": ".py",
   "mimetype": "text/x-python",
   "name": "python",
   "nbconvert_exporter": "python",
   "pygments_lexer": "ipython3",
   "version": "3.7.9"
  }
 },
 "nbformat": 4,
 "nbformat_minor": 5
}
