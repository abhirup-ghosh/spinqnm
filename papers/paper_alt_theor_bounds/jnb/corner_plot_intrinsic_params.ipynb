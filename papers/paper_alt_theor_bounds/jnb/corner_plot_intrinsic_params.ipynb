{
 "cells": [
  {
   "cell_type": "code",
   "execution_count": 1,
   "id": "da0519a3-7b2b-473f-88f0-6014a56b9d60",
   "metadata": {},
   "outputs": [],
   "source": [
    "from __future__ import unicode_literals\n",
    "\n",
    "import lal\n",
    "import lalsimulation\n",
    "import numpy as np\n",
    "\n",
    "import matplotlib.pyplot as plt\n",
    "import matplotlib.gridspec as gridspec\n",
    "\n",
    "%matplotlib inline\n",
    "%config InlineBackend.figure_format='retina'"
   ]
  },
  {
   "cell_type": "code",
   "execution_count": 2,
   "id": "1344081b-8b7c-4515-b46e-4d9c70c0fca9",
   "metadata": {},
   "outputs": [],
   "source": [
    "style = \"times\"\n",
    "\n",
    "if style==\"times\":\n",
    "    plt.style.use('/home/hosilva/tools/mplstyle/timesnromanstyle.mplstyle')\n",
    "else:\n",
    "    plt.style.use('/home/hosilva/tools/mplstyle/computermodernstyle.mplstyle')"
   ]
  },
  {
   "cell_type": "code",
   "execution_count": null,
   "id": "0bd837e3-f513-48f0-9e1e-fc5ccf73f3fa",
   "metadata": {},
   "outputs": [],
   "source": [
    "data_GW150914_gr     = np.genfromtxt(\"/home/hosilva/parspec/pe/GW150914/parspec_runs/gr/cbcBayes/posterior_samples.dat\", names=True, dtype=None)\n",
    "data_GW150914_cs    = np.genfromtxt(\"/home/hosilva/parspec/pe/GW150914/parspec_runs/p4_l_df0_dtau0_CS_220203_1052/cbcBayes/posterior_samples.dat\", names=True, dtype=None)"
   ]
  },
  {
   "cell_type": "code",
   "execution_count": null,
   "id": "f72a67b9-9c94-49fb-af4b-455cd1c9b58c",
   "metadata": {},
   "outputs": [],
   "source": [
    "GW150914_gr = np.vstack([data_GW150914_gr['chi_eff'], data_GW150914_gr['redshift'], data_GW150914_gr['m1'], data_GW150914_gr['m2'], data_GW150914_gr['mtotal'], data_GW150914_gr['mf_evol'], data_GW150914_gr['af_evol']]).T\n",
    "GW150914_cs = np.vstack([data_GW150914_cs['chi_eff'], data_GW150914_cs['redshift'], data_GW150914_cs['m1'], data_GW150914_cs['m2'], data_GW150914_cs['mtotal'], data_GW150914_cs['mf_evol'], data_GW150914_cs['af_evol']]).T"
   ]
  },
  {
   "cell_type": "markdown",
   "id": "a3589c20-12e9-4c14-969f-155dfe4255f3",
   "metadata": {},
   "source": [
    "Same type of plots, but using ChainConsumer"
   ]
  },
  {
   "cell_type": "code",
   "execution_count": null,
   "id": "d005cb84-c455-4a12-b41c-947dbf4465d3",
   "metadata": {},
   "outputs": [],
   "source": [
    "from chainconsumer import ChainConsumer"
   ]
  },
  {
   "cell_type": "code",
   "execution_count": null,
   "id": "34574fd6-a02b-417d-9d6b-0344ba81270d",
   "metadata": {},
   "outputs": [],
   "source": [
    "param_list = [r\"$\\chi_{\\rm eff}$\", r\"$z$\",\n",
    "              r\"$m_1$ [M$_{\\odot}$]\", r\"$m_2$ [M$_{\\odot}$]\", r\"$M$ [M$_{\\odot}$]\",\n",
    "              r\"$M_{\\rm f}$ [M$_{\\odot}$]\", r\"$a_{\\rm f}$\"]"
   ]
  },
  {
   "cell_type": "code",
   "execution_count": null,
   "id": "145bb334-742c-4dca-a011-30a702f40b52",
   "metadata": {},
   "outputs": [],
   "source": [
    "c = ChainConsumer()\n",
    "\n",
    "c.add_chain(GW150914_gr, parameters=param_list, name=\"GR\")\n",
    "c.add_chain(GW150914_cs, parameters=param_list, name=\"CS\")\n",
    "c.configure(linestyles=[\"-\", \"-\"], \n",
    "            linewidths=[2., 1.25],\n",
    "            colors=['#e0aaff', 'k'],\n",
    "            sigmas=[1.645],\n",
    "            spacing=1/4., \n",
    "            shade_alpha=[0.2, 0.05],\n",
    "            bar_shade=[False, False],\n",
    "            diagonal_tick_labels=False,\n",
    "            tick_font_size=12,\n",
    "            label_font_size=14)\n",
    "\n",
    "fig = c.plotter.plot(figsize='GROW',\n",
    "                     # extents={r\"$M_f$ [M$_{\\odot}$]\":(50,70), r\"$\\chi_f$\": (0.5, 0.8)}\n",
    "                    )\n",
    "\n",
    "# # Trick from corner, which we can apply here as well\n",
    "# axes = np.array(fig.axes).reshape((2, 2))\n",
    "# axes[1, 0].xaxis.set_ticks(ticks=np.arange(50, 70 + 5, 5));\n",
    "# axes[0, 0].axis('off')\n",
    "# axes[1, 0].yaxis.set_ticks(ticks=np.arange(0.5, 0.8 + 0.1, 0.1));\n",
    "# axes[1, 1].axis('off')\n",
    "\n",
    "fig.savefig('fig_output/tmp_GW150914_intrinsic_params.pdf')"
   ]
  },
  {
   "cell_type": "code",
   "execution_count": null,
   "id": "c87b4883-0e84-4e6f-8b3a-03873ba81fd4",
   "metadata": {},
   "outputs": [],
   "source": [
    "print(len(GW150914_gr_hos_z), len(GW150914_gr_z))"
   ]
  },
  {
   "cell_type": "code",
   "execution_count": null,
   "id": "442a1b35-4a8b-4343-b8e5-00b7b5e0346f",
   "metadata": {},
   "outputs": [],
   "source": [
    "fig.savefig('fig_output/tmp_GW150914_intrinsic_params.png')"
   ]
  },
  {
   "cell_type": "markdown",
   "id": "65ff9cf0-7154-496e-8f1d-4ed1b1d6ffa6",
   "metadata": {},
   "source": [
    "Similar plot, but only with remnant parameters."
   ]
  },
  {
   "cell_type": "code",
   "execution_count": null,
   "id": "7fbe39a5-9c82-420b-ad75-54e97959a5fe",
   "metadata": {},
   "outputs": [],
   "source": [
    "GW150914_gr = np.vstack([(1. + data_GW150914_gr['redshift']) * data_GW150914_gr['mf_evol'], data_GW150914_gr['af_evol']]).T\n",
    "GW150914_cs = np.vstack([(1. + data_GW150914_cs['redshift']) * data_GW150914_cs['mf_evol'], data_GW150914_cs['af_evol']]).T\n",
    "param_list  = [r\"$(1 + z) M_{f}$\", r\"$\\chi_{f}$\"]"
   ]
  },
  {
   "cell_type": "code",
   "execution_count": null,
   "id": "89ffd1e1-3759-4b56-b7d0-0b6abc182a74",
   "metadata": {},
   "outputs": [],
   "source": [
    "c = ChainConsumer()\n",
    "\n",
    "c.add_chain(GW150914_cs, parameters=param_list, name=r\"dCS\")\n",
    "c.add_chain(GW150914_gr, parameters=param_list, name=r\"GR\")\n",
    "c.configure(linestyles=[\"-\", \"-\"], \n",
    "            linewidths=[2., 1.25],\n",
    "            colors=['#c77dff', 'k'],\n",
    "            sigma2d=False,\n",
    "            sigmas=[1.65],\n",
    "            spacing=1/5., \n",
    "            shade_alpha=[0.25, 0.25],\n",
    "            bar_shade=[False, False],\n",
    "            diagonal_tick_labels=False,\n",
    "            tick_font_size=12,\n",
    "            label_font_size=12)\n",
    "\n",
    "fig = c.plotter.plot(figsize=\"COLUMN\",\n",
    "                     extents={param_list[0]:(65, 85), param_list[1]: (0.5, 0.8)})\n",
    "\n",
    "# Trick from corner, which we can apply here as well\n",
    "axes = np.array(fig.axes).reshape((2, 2))\n",
    "axes[1, 0].xaxis.set_ticks(ticks=np.arange(65, 85 + 5, 5));\n",
    "axes[0, 0].axis('off')\n",
    "axes[1, 0].yaxis.set_ticks(ticks=np.arange(0.5, 0.8 + 0.1, 0.1));\n",
    "axes[1, 1].axis('off')\n",
    "\n",
    "# plt.tight_layout()\n",
    "\n",
    "fig.savefig('fig_output/tmp_GW150914_intrinsic_params_remnant.pdf')\n",
    "# fig.savefig('fig_output/tmp_GW150914_intrinsic_params_remnant.png')"
   ]
  },
  {
   "cell_type": "code",
   "execution_count": null,
   "id": "bd354595-0dcb-4e36-b68d-26c9fd658bf0",
   "metadata": {},
   "outputs": [],
   "source": [
    "param_list[1]"
   ]
  },
  {
   "cell_type": "code",
   "execution_count": null,
   "id": "67a25c3a-7be3-44e8-a943-afc21dd847d7",
   "metadata": {},
   "outputs": [],
   "source": []
  }
 ],
 "metadata": {
  "kernelspec": {
   "display_name": "Python 3 (ipykernel)",
   "language": "python",
   "name": "python3"
  },
  "language_info": {
   "codemirror_mode": {
    "name": "ipython",
    "version": 3
   },
   "file_extension": ".py",
   "mimetype": "text/x-python",
   "name": "python",
   "nbconvert_exporter": "python",
   "pygments_lexer": "ipython3",
   "version": "3.7.3"
  }
 },
 "nbformat": 4,
 "nbformat_minor": 5
}
