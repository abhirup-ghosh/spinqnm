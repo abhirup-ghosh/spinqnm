{
 "cells": [
  {
   "cell_type": "code",
   "execution_count": 1,
   "id": "b6a57640-db4f-4a17-90f9-6a4f7b353956",
   "metadata": {},
   "outputs": [],
   "source": [
    "from __future__ import unicode_literals\n",
    "\n",
    "import numpy as np\n",
    "\n",
    "import matplotlib.pyplot as plt\n",
    "\n",
    "%matplotlib inline\n",
    "%config InlineBackend.figure_format='retina'"
   ]
  },
  {
   "cell_type": "code",
   "execution_count": null,
   "id": "4f585eb4-2d6e-4869-b18c-ed7427da340f",
   "metadata": {},
   "outputs": [],
   "source": [
    "def qnm_parspec_220(chi, which_fit):\n",
    "    if which_fit == \"Maselli\":\n",
    "        omega_coefs = [0.3737, 0.1258, 0.0717, 0.0480, 0.0350]\n",
    "        tau_coefs   = [11.2407, 0.2522, 0.6649, 0.5866, 0.5797]\n",
    "    elif which_fit == \"Carullo\":\n",
    "        omega_coefs = [0.373672, 0.2438, -1.2722, 4.925, -7.031, 3.621]\n",
    "        tau_coefs   = [11.240715, 2.3569, ]    \n",
    "    else:\n",
    "        exit()"
   ]
  }
 ],
 "metadata": {
  "kernelspec": {
   "display_name": "Python 3 (ipykernel)",
   "language": "python",
   "name": "python3"
  },
  "language_info": {
   "codemirror_mode": {
    "name": "ipython",
    "version": 3
   },
   "file_extension": ".py",
   "mimetype": "text/x-python",
   "name": "python",
   "nbconvert_exporter": "python",
   "pygments_lexer": "ipython3",
   "version": "3.8.7"
  }
 },
 "nbformat": 4,
 "nbformat_minor": 5
}
