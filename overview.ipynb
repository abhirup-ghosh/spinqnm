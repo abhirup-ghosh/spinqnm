{
 "cells": [
  {
   "cell_type": "markdown",
   "metadata": {},
   "source": [
    "# What I did in Academia, and how it relates to the Industry"
   ]
  },
  {
   "cell_type": "code",
   "execution_count": null,
   "metadata": {},
   "outputs": [],
   "source": []
  }
 ],
 "metadata": {
  "kernelspec": {
   "display_name": "Python 3.10.5 ('MM22')",
   "language": "python",
   "name": "python3"
  },
  "language_info": {
   "name": "python",
   "version": "3.10.5"
  },
  "orig_nbformat": 4,
  "vscode": {
   "interpreter": {
    "hash": "facce6baae5d86b64b0cbb5047c38ef59f3b278395587b0bd56af290cd4b7918"
   }
  }
 },
 "nbformat": 4,
 "nbformat_minor": 2
}
